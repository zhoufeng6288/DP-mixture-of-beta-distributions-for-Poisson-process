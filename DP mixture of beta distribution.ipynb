{
 "cells": [
  {
   "cell_type": "code",
   "execution_count": 865,
   "metadata": {},
   "outputs": [],
   "source": [
    "import numpy as np\n",
    "import matplotlib.pyplot as plt\n",
    "from scipy import optimize\n",
    "from scipy.stats import expon\n",
    "from scipy.stats import uniform\n",
    "from scipy.stats import multinomial\n",
    "from scipy.stats import gamma\n",
    "from scipy.stats import invgamma\n",
    "import math\n",
    "from scipy.special import beta\n",
    "from scipy.integrate import quad\n",
    "from scipy.stats import beta as beta_dist"
   ]
  },
  {
   "cell_type": "code",
   "execution_count": 866,
   "metadata": {},
   "outputs": [],
   "source": [
    "def beta_k(x,mu,tao,T): # beta distribution on [0,T]\n",
    "    result= x**(mu*tao/T-1)*(T-x)**(tao*(1-mu/T)-1)/beta(mu*tao/T,tao*(1-mu/T))/T**(tao-1)\n",
    "    return result"
   ]
  },
  {
   "cell_type": "markdown",
   "metadata": {},
   "source": [
    "## simulation"
   ]
  },
  {
   "cell_type": "code",
   "execution_count": 867,
   "metadata": {},
   "outputs": [],
   "source": [
    "T=100"
   ]
  },
  {
   "cell_type": "code",
   "execution_count": 868,
   "metadata": {},
   "outputs": [],
   "source": [
    "x=np.linspace(0+T/1000/2,T-T/1000/2,1000)"
   ]
  },
  {
   "cell_type": "code",
   "execution_count": 870,
   "metadata": {},
   "outputs": [],
   "source": [
    "intensity=np.zeros(1000)"
   ]
  },
  {
   "cell_type": "code",
   "execution_count": 871,
   "metadata": {},
   "outputs": [],
   "source": [
    "for i in range(1000):\n",
    "    intensity[i]=(0.3*beta_k(x[i],20,50,T)+0.3*beta_k(x[i],50,50,T)+0.4*beta_k(x[i],80,50,T))*200 ## 3 components, [20,50][50,50][80,50],gamma=200"
   ]
  },
  {
   "cell_type": "code",
   "execution_count": 872,
   "metadata": {},
   "outputs": [],
   "source": [
    "def inhomo_simulation(measure,delta_t,measure_sup,T):\n",
    "    t=0\n",
    "    points_homo=[]\n",
    "    points_inhomo=[]\n",
    "    while(t<T):\n",
    "        points_homo.append(t)\n",
    "        r=expon.rvs(scale=1/measure_sup) #scale=1/lamda\n",
    "        t+=r\n",
    "        if t>=T: break\n",
    "        D=uniform.rvs(loc=0,scale=1)\n",
    "        if D*measure_sup<=measure[int(t/delta_t)]:\n",
    "            points_inhomo.append(t)\n",
    "    if points_inhomo[-1]>T:\n",
    "        del points_inhomo[-1]\n",
    "    del points_homo[0]\n",
    "    return points_inhomo"
   ]
  },
  {
   "cell_type": "code",
   "execution_count": 873,
   "metadata": {},
   "outputs": [],
   "source": [
    "points_inhomo=inhomo_simulation(intensity,T/len(x),max(intensity),T)"
   ]
  },
  {
   "cell_type": "code",
   "execution_count": 874,
   "metadata": {},
   "outputs": [
    {
     "data": {
      "text/plain": [
       "226"
      ]
     },
     "execution_count": 874,
     "metadata": {},
     "output_type": "execute_result"
    }
   ],
   "source": [
    "len(points_inhomo)"
   ]
  },
  {
   "cell_type": "code",
   "execution_count": 875,
   "metadata": {},
   "outputs": [
    {
     "data": {
      "image/png": "[encoded data removed]",
      "text/plain": [
       "<Figure size 360x216 with 1 Axes>"
      ]
     },
     "metadata": {
      "needs_background": "light"
     },
     "output_type": "display_data"
    }
   ],
   "source": [
    "plt.figure(1,figsize=(5,3))\n",
    "axs=plt.subplot(111)\n",
    "axs.plot(x,intensity,label='intensity')\n",
    "axs.plot(points_inhomo,np.zeros(len(points_inhomo)),linestyle='None', marker='|', color='g', markersize=10)\n",
    "plt.legend()\n",
    "plt.show()"
   ]
  },
  {
   "cell_type": "markdown",
   "metadata": {},
   "source": [
    "## inference"
   ]
  },
  {
   "cell_type": "code",
   "execution_count": 766,
   "metadata": {},
   "outputs": [],
   "source": [
    "gamma_posterior=gamma(a=len(points_inhomo),scale=1).rvs()"
   ]
  },
  {
   "cell_type": "markdown",
   "metadata": {},
   "source": [
    "## posterior of $\\theta$"
   ]
  },
  {
   "cell_type": "code",
   "execution_count": 767,
   "metadata": {},
   "outputs": [],
   "source": [
    "alpha=0.5             ## DP prior and initialization\n",
    "\n",
    "mu=50.0\n",
    "\n",
    "tao=50.0"
   ]
  },
  {
   "cell_type": "code",
   "execution_count": 768,
   "metadata": {},
   "outputs": [],
   "source": [
    "N=len(points_inhomo)   ## mcmc initialization\n",
    "\n",
    "C=np.zeros(N,dtype=int)\n",
    "\n",
    "Phi=np.array([[mu,tao]])"
   ]
  },
  {
   "cell_type": "code",
   "execution_count": 769,
   "metadata": {},
   "outputs": [],
   "source": [
    "C_list=[]\n",
    "phi_list=[]"
   ]
  },
  {
   "cell_type": "code",
   "execution_count": 770,
   "metadata": {},
   "outputs": [],
   "source": [
    "for m in range(500):\n",
    "    ## sample clusters:\n",
    "\n",
    "    for i in range(N):\n",
    "        mu_old,tao_old=Phi[C[i]]\n",
    "        C_old=C\n",
    "        Phi_old=Phi\n",
    "\n",
    "        if sum(C==C[i])==1: # i is a singlton, delete phi_ci,delete ci, all the c>c_i--1\n",
    "            Phi=np.delete(Phi,C[i],axis=0)\n",
    "            C=C-(C>C[i])\n",
    "            C=np.delete(C,i)\n",
    "        else:               # i not a singlton, just delete c_i\n",
    "            C=np.delete(C,i)\n",
    "        clusters=np.unique(C)\n",
    "#         print(clusters)\n",
    "        assert clusters[0]==0\n",
    "        prob=[sum(C==j)/(N-1+alpha) for j in clusters]\n",
    "        prob.append(alpha/(N-1+alpha))\n",
    "        assert sum([sum(C==j) for j in clusters])==N-1, print(sum([sum(C==j) for j in clusters]),N-1)\n",
    "        c_proposal=multinomial(n=1,p=prob).rvs()[0].tolist().index(1)\n",
    "#         print(c_proposal)\n",
    "        if c_proposal==len(clusters):  ## propose a new cluster\n",
    "            assert c_proposal==clusters[-1]+1\n",
    "            mu_proposal=uniform(0,T).rvs()\n",
    "            tao_proposal=invgamma(a=25,scale=1250).rvs()  # propose a new \\theta\n",
    "            accep_rate=min(beta_k(points_inhomo[i],mu_proposal,tao_proposal,T)/beta_k(points_inhomo[i],mu_old,tao_old,T),1)\n",
    "            temp=uniform(0,1).rvs()\n",
    "            if temp<accep_rate:\n",
    "                C=np.insert(C,i,max(C)+1)\n",
    "                Phi=np.append(Phi,[[mu_proposal,tao_proposal]],axis=0)\n",
    "#                 print(Phi)\n",
    "            else:\n",
    "                C=C_old\n",
    "                Phi=Phi_old\n",
    "        else:                          ## propose a old cluster\n",
    "            mu_proposal=Phi[clusters[c_proposal]][0]\n",
    "            tao_proposal=Phi[clusters[c_proposal]][1]\n",
    "            accep_rate=min(beta_k(points_inhomo[i],mu_proposal,tao_proposal,T)/beta_k(points_inhomo[i],mu_old,tao_old,T),1)\n",
    "            temp=uniform(0,1).rvs()\n",
    "            if temp<accep_rate:\n",
    "                C=np.insert(C,i,c_proposal)\n",
    "            else:\n",
    "                C=C_old\n",
    "                Phi=Phi_old\n",
    "\n",
    "    C_list.append(C)\n",
    "    \n",
    "    # sample \\phi\n",
    "    for i in C:\n",
    "        data=np.array(points_inhomo)[C==i]\n",
    "        mu_proposal=uniform(0,T).rvs()\n",
    "        tao_proposal=invgamma(a=25,scale=1250).rvs()  # propose a new \\theta\n",
    "        accep_rate=0\n",
    "        for j in range(len(data)):\n",
    "            accep_rate+=np.log(beta_k(data[j],mu_proposal,tao_proposal,T))-np.log(beta_k(data[j],Phi[i][0],Phi[i][1],T))\n",
    "        accep_rate=min(np.exp(accep_rate),1)\n",
    "        temp=uniform(0,1).rvs()\n",
    "        if temp<accep_rate:\n",
    "            Phi[i]=[mu_proposal,tao_proposal]\n",
    "    \n",
    "    phi_list.append(Phi)"
   ]
  },
  {
   "cell_type": "code",
   "execution_count": 771,
   "metadata": {},
   "outputs": [
    {
     "data": {
      "text/plain": [
       "array([0, 1, 2, 3])"
      ]
     },
     "execution_count": 771,
     "metadata": {},
     "output_type": "execute_result"
    }
   ],
   "source": [
    "np.unique(C_list[-1])"
   ]
  },
  {
   "cell_type": "code",
   "execution_count": 772,
   "metadata": {},
   "outputs": [
    {
     "data": {
      "text/plain": [
       "array([[79.29133079, 40.61544178],\n",
       "       [19.57668676, 47.83714899],\n",
       "       [49.98548199, 62.54969512],\n",
       "       [48.11397141, 60.90475906]])"
      ]
     },
     "execution_count": 772,
     "metadata": {},
     "output_type": "execute_result"
    }
   ],
   "source": [
    "phi_list[-1]"
   ]
  },
  {
   "cell_type": "code",
   "execution_count": null,
   "metadata": {},
   "outputs": [],
   "source": []
  },
  {
   "cell_type": "code",
   "execution_count": null,
   "metadata": {},
   "outputs": [],
   "source": []
  },
  {
   "cell_type": "code",
   "execution_count": 781,
   "metadata": {},
   "outputs": [],
   "source": [
    "pro=[sum(C_list[-1]==i)/(N+alpha) for i in np.unique(C_list[-1])]"
   ]
  },
  {
   "cell_type": "code",
   "execution_count": 782,
   "metadata": {},
   "outputs": [],
   "source": [
    "pro.append(alpha/(alpha+N))"
   ]
  },
  {
   "cell_type": "markdown",
   "metadata": {},
   "source": [
    "## assume 100 $\\theta$ on the truncated G"
   ]
  },
  {
   "cell_type": "code",
   "execution_count": 838,
   "metadata": {},
   "outputs": [],
   "source": [
    "theta_G=[]"
   ]
  },
  {
   "cell_type": "code",
   "execution_count": 840,
   "metadata": {},
   "outputs": [],
   "source": [
    "J=1000"
   ]
  },
  {
   "cell_type": "code",
   "execution_count": 841,
   "metadata": {},
   "outputs": [],
   "source": [
    "for i in range(J):\n",
    "    index=multinomial(n=1,p=pro).rvs()[0].tolist().index(1)\n",
    "    if index==len(phi_list[-1]):\n",
    "        theta_G.append([uniform(0,T).rvs(),invgamma(a=25,scale=1250).rvs()])  # propose a new \\theta\n",
    "    else:\n",
    "        theta_G.append(phi_list[-1][index])"
   ]
  },
  {
   "cell_type": "code",
   "execution_count": 842,
   "metadata": {},
   "outputs": [],
   "source": [
    "theta_G=np.array(theta_G)"
   ]
  },
  {
   "cell_type": "code",
   "execution_count": 846,
   "metadata": {},
   "outputs": [],
   "source": [
    "z=np.zeros(J)\n",
    "weight_G=np.zeros(J)\n",
    "z[0]=beta_dist(a=1,b=alpha+N).rvs()\n",
    "weight_G[0]=z[0]\n",
    "for i in range(1,J-1):\n",
    "    z[i]=beta_dist(a=1,b=alpha+N).rvs()\n",
    "    weight_G[i]=z[i]\n",
    "    for j in range(i):\n",
    "        weight_G[i]=weight_G[i]*(1-z[j])\n",
    "weight_G[J-1]=1-sum(weight_G)"
   ]
  },
  {
   "cell_type": "code",
   "execution_count": 854,
   "metadata": {},
   "outputs": [],
   "source": [
    "def predictive_intensity(x,theta_G,weight_G):\n",
    "    assert len(theta_G)==len(weight_G)\n",
    "    J=len(theta_G)\n",
    "    result=0\n",
    "    for i in range(J):\n",
    "        result+=weight_G[i]*beta_k(x,theta_G[i][0],theta_G[i][1],T)\n",
    "    return result"
   ]
  },
  {
   "cell_type": "code",
   "execution_count": 880,
   "metadata": {},
   "outputs": [],
   "source": [
    "y_predict=np.array([predictive_intensity(x_i,theta_G,weight_G) for x_i in x])*gamma_posterior"
   ]
  },
  {
   "cell_type": "code",
   "execution_count": 881,
   "metadata": {},
   "outputs": [
    {
     "data": {
      "image/png": "[encoded data removed]",
      "text/plain": [
       "<Figure size 360x216 with 1 Axes>"
      ]
     },
     "metadata": {
      "needs_background": "light"
     },
     "output_type": "display_data"
    }
   ],
   "source": [
    "plt.figure(1,figsize=(5,3))\n",
    "axs=plt.subplot(111)\n",
    "axs.plot(x,intensity,label='intensity')\n",
    "axs.plot(points_inhomo,np.zeros(len(points_inhomo)),linestyle='None', marker='|', color='g', markersize=10)\n",
    "axs.plot(x,y_predict,label='predictive intensity')\n",
    "plt.legend()\n",
    "plt.show()"
   ]
  },
  {
   "cell_type": "code",
   "execution_count": null,
   "metadata": {},
   "outputs": [],
   "source": []
  }
 ],
 "metadata": {
  "kernelspec": {
   "display_name": "Python 3",
   "language": "python",
   "name": "python3"
  },
  "language_info": {
   "codemirror_mode": {
    "name": "ipython",
    "version": 3
   },
   "file_extension": ".py",
   "mimetype": "text/x-python",
   "name": "python",
   "nbconvert_exporter": "python",
   "pygments_lexer": "ipython3",
   "version": "3.6.6"
  }
 },
 "nbformat": 4,
 "nbformat_minor": 2
}
